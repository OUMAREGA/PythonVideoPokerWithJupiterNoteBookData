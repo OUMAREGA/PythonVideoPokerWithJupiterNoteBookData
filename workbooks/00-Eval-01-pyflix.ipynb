{
 "cells": [
  {
   "cell_type": "markdown",
   "metadata": {},
   "source": [
    "Ces calepins ont pour objectif de vous faire vous évaluer sur votre connaissance des bases du langage Python. Les différentes questions vont faire appel à différentes notions, concepts ou simplement pratiques.\n",
    "\n",
    "# Soirée PyFlix Prime\n",
    "La liste suivante contient les épisodes de la saison 12 de Big Bang Theory."
   ]
  },
  {
   "cell_type": "code",
   "execution_count": null,
   "metadata": {},
   "outputs": [],
   "source": [
    "bbt_s12 = [\"The Conjugal Configuration\",\n",
    "           \"The Wedding Gift Wormhole\",\n",
    "           \"The Procreation Calculation\",\n",
    "           \"The Tam Turbulence\",\n",
    "           \"The Planetarium Collision\",\n",
    "           \"The Imitation Perturbation\",\n",
    "           \"The Grant Allocation Derivation\",\n",
    "           \"The Consummation Deviation\",\n",
    "           \"The Citation Negation\",\n",
    "           \"The VCR Illumination\",\n",
    "           \"The Paintball Scattering\",\n",
    "           \"The Propagation Proposition\",\n",
    "           \"The Confirmation Polarization\",\n",
    "           \"The Meteorite Manifestation\",\n",
    "           \"The Donation Oscillation\",\n",
    "           \"The D & D Vortex\",\n",
    "           \"The Conference Valuation\",\n",
    "           \"The Laureate Accumulation\",\n",
    "           \"The Inspiration Deprivation\",\n",
    "           \"The Decision Reverberation\",\n",
    "           \"The Plagiarism Schism\",\n",
    "           \"The Maternal Conclusion\",\n",
    "           \"The Change Constant\",\n",
    "           \"The Stockholm Syndrome\"]"
   ]
  },
  {
   "cell_type": "markdown",
   "metadata": {},
   "source": [
    "Écrivez le code permettant de calculer le nombre d'épisodes que contient cette saison."
   ]
  },
  {
   "cell_type": "code",
   "execution_count": null,
   "metadata": {},
   "outputs": [],
   "source": []
  },
  {
   "cell_type": "markdown",
   "metadata": {},
   "source": [
    "Nous considérons que chaque épisode a une durée de 24 minutes, écrivez le code calculant la durée en minutes de cette saison."
   ]
  },
  {
   "cell_type": "code",
   "execution_count": null,
   "metadata": {},
   "outputs": [],
   "source": []
  },
  {
   "cell_type": "markdown",
   "metadata": {},
   "source": [
    "Utilisez la chaine ci-dessous pour afficher la durée en heures et minutes."
   ]
  },
  {
   "cell_type": "code",
   "execution_count": null,
   "metadata": {},
   "outputs": [],
   "source": [
    "SEASON_DURATION = \"La saison a une durée de {:2}h{:02}.\""
   ]
  },
  {
   "cell_type": "markdown",
   "metadata": {},
   "source": [
    "Nous avons 2 heures maximum, écrivez le code permettant de calculer le nombre d'épisodes entiers visionables dans ce laps de temps. Utilisez ce calcul pour générer une liste de ces épisodes."
   ]
  },
  {
   "cell_type": "code",
   "execution_count": null,
   "metadata": {},
   "outputs": [],
   "source": []
  },
  {
   "cell_type": "markdown",
   "metadata": {},
   "source": [
    "Écrivez le code affichant le dernier épisode de cette nouvelle liste."
   ]
  },
  {
   "cell_type": "code",
   "execution_count": null,
   "metadata": {},
   "outputs": [],
   "source": []
  },
  {
   "cell_type": "markdown",
   "metadata": {},
   "source": [
    "Créez une copie de la liste `bbt_s12` dans une variable `playlist`.\n",
    "Écrivez le code permettant de supprimer et afficher le premier élément de la liste. Répétez ce code autant de fois que d'épisodes à voir en 2 heures."
   ]
  },
  {
   "cell_type": "code",
   "execution_count": null,
   "metadata": {},
   "outputs": [],
   "source": []
  },
  {
   "cell_type": "markdown",
   "metadata": {},
   "source": [
    "Affichez la durée de la playlist et la durée de la saison et comparez les."
   ]
  },
  {
   "cell_type": "code",
   "execution_count": null,
   "metadata": {},
   "outputs": [],
   "source": []
  },
  {
   "cell_type": "markdown",
   "metadata": {},
   "source": [
    "La liste suivante contient des données structurées sur les Harry Potters. Chaque élément est une liste avec le titre d'un des films, sa durée (en minutes) et un booléen indiquant si je l'ai vu ou non."
   ]
  },
  {
   "cell_type": "code",
   "execution_count": null,
   "metadata": {},
   "outputs": [],
   "source": [
    "movies = [[\"The Philosopher's Stone\", 152, True],\n",
    "          [\"The Chamber of Secrets\", 161, True],\n",
    "          [\"The Prisoner of Azkaban\", 142, False],\n",
    "          [\"the Goblet of Fire\", 157, True],\n",
    "          [\"the Order of the Phoenix\", 138, False],\n",
    "          [\"the Half-Blood Prince\", 153, True],\n",
    "          [\"the Deathly Hallows – Part 1\", 126, False],\n",
    "          [\"the Deathly Hallows – Part 2\", 130, False]]"
   ]
  },
  {
   "cell_type": "markdown",
   "metadata": {},
   "source": [
    "Écrivez le code permétant de créer la liste des titres (et uniquement des titres) qu'il me reste à voir (que je n'ai pas vu)."
   ]
  },
  {
   "cell_type": "code",
   "execution_count": null,
   "metadata": {},
   "outputs": [],
   "source": []
  },
  {
   "cell_type": "markdown",
   "metadata": {},
   "source": [
    "Écrivez le code permétant de calculer la durée (en minutes) des films qu'il me reste à voir."
   ]
  },
  {
   "cell_type": "code",
   "execution_count": null,
   "metadata": {},
   "outputs": [],
   "source": []
  }
 ],
 "metadata": {
  "kernelspec": {
   "display_name": "Python 3",
   "language": "python",
   "name": "python3"
  },
  "language_info": {
   "codemirror_mode": {
    "name": "ipython",
    "version": 3
   },
   "file_extension": ".py",
   "mimetype": "text/x-python",
   "name": "python",
   "nbconvert_exporter": "python",
   "pygments_lexer": "ipython3",
   "version": "3.7.0"
  }
 },
 "nbformat": 4,
 "nbformat_minor": 2
}
