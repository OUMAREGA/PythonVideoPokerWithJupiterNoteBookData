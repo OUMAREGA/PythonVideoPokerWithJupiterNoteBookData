{
 "cells": [
  {
   "cell_type": "markdown",
   "metadata": {},
   "source": [
    "# Introduction aux fonctions\n",
    "\n",
    "Une fonction est une structure qui permet de grouper des instructions sous un nom (le nom de la fonction) et de les exécuter par *appel* de cette fonction.\n",
    "\n",
    "Les fonctions sont définies par l'instruction **def** et sont appelées par leur nom suivi de parenthèses. Les parenthèses déclarent les paramètres attendus."
   ]
  },
  {
   "cell_type": "code",
   "execution_count": null,
   "metadata": {},
   "outputs": [],
   "source": [
    "def print_something():\n",
    "    print(\"Something\")\n",
    "    \n",
    "print_something()"
   ]
  },
  {
   "cell_type": "markdown",
   "metadata": {},
   "source": [
    "`print_something` n'attends pas de paramètre. Vous pouvez l'appeler dans la cellule suivante (après avoir exécuté la cellule précédente afin que la fonction soit connue dans le notebook actuel)."
   ]
  },
  {
   "cell_type": "code",
   "execution_count": null,
   "metadata": {},
   "outputs": [],
   "source": []
  },
  {
   "cell_type": "markdown",
   "metadata": {},
   "source": [
    "Les fonctions peuvent avoir des paramètres. Vous pouvez tester la fonction suivante en lui passant un paramètre."
   ]
  },
  {
   "cell_type": "code",
   "execution_count": null,
   "metadata": {},
   "outputs": [],
   "source": [
    "def print_param(param_to_print):\n",
    "    print(\"exécuté avec\", param_to_print)"
   ]
  },
  {
   "cell_type": "code",
   "execution_count": null,
   "metadata": {},
   "outputs": [],
   "source": []
  },
  {
   "cell_type": "markdown",
   "metadata": {},
   "source": [
    "## Exercice\n",
    "\n",
    "Dans le notebook précédent, nous avons un code qui calcul la durée en heure d'une formation. Écrivez une fonction qui affiche cette durée en prenant un paramètre `days`."
   ]
  },
  {
   "cell_type": "code",
   "execution_count": null,
   "metadata": {},
   "outputs": [],
   "source": []
  },
  {
   "cell_type": "markdown",
   "metadata": {},
   "source": [
    "Éxécutez cette fonction avec différents paramètres"
   ]
  },
  {
   "cell_type": "code",
   "execution_count": null,
   "metadata": {},
   "outputs": [],
   "source": []
  },
  {
   "cell_type": "markdown",
   "metadata": {},
   "source": [
    "Avez vous essayé d'appeler cette fonction avec le paramètre `\"2\"` ? Que se passe-t-il ?"
   ]
  },
  {
   "cell_type": "code",
   "execution_count": null,
   "metadata": {},
   "outputs": [],
   "source": []
  },
  {
   "cell_type": "markdown",
   "metadata": {},
   "source": [
    "Si le comportement est incohérent, corrigez la fonction pour qu'il ne le soit plus."
   ]
  },
  {
   "cell_type": "code",
   "execution_count": null,
   "metadata": {},
   "outputs": [],
   "source": []
  },
  {
   "cell_type": "code",
   "execution_count": null,
   "metadata": {},
   "outputs": [],
   "source": []
  },
  {
   "cell_type": "markdown",
   "metadata": {},
   "source": [
    "Une *bonne* fonction ne fait qu'une seule chose (et la fait bien). Notre fonction en fait 2 : elle calcule une valeur et l'affiche. Ceci est une mauvaise pratique car :\n",
    " - si nous exécutons la fonction dans un environnement sans terminal, nous ne pouvons pas voir la valeur\n",
    " - si nous souhaitons obtenir cette valeur pour en faire quelque chose… et bien nous ne pouvons pas.\n",
    "\n",
    "Il est donc préférable qu'une fonction qui calcule une valeur retourne cette valeur. Redefinissez la fonction ci-dessous pour qu'elle retourne cette durée."
   ]
  },
  {
   "cell_type": "code",
   "execution_count": null,
   "metadata": {},
   "outputs": [],
   "source": []
  },
  {
   "cell_type": "markdown",
   "metadata": {},
   "source": [
    "Et écrivez l'instruction ci-dessous qui affiche la durée en heure d'une formation de 2 jours à l'aide de cette fonction."
   ]
  },
  {
   "cell_type": "code",
   "execution_count": null,
   "metadata": {},
   "outputs": [],
   "source": []
  },
  {
   "cell_type": "markdown",
   "metadata": {},
   "source": [
    "## Informer sur le type attendu\n",
    "Avec la fonction précédente, un paramètre `day` peut-être ambigu : qu'est-ce que l'on attends comme type de donnée ? Nous pouvons nous reposer sur l'aide. Pour cela, dans le code suivant, il sera supposé que la fonction créée d'appelle `training_duration(days)`.\n",
    "\n",
    "L'accès à la documentation peut vous aider. Vous pouvez voir ce que vous propose la fonction `help()` en lui passant en paramètre la fonction.\n",
    "\n",
    "```python\n",
    "help(duration_for)\n",
    "```\n",
    "\n",
    "Dans l'état actuel, il n'y a pas plus d'information. Mais nous pouvons y remédier. Les Type Hints ([PEP 484](https://www.python.org/dev/peps/pep-0484/)) sont un ajout dans Python 3.5. Ils consistent à ajouter le type attendu après le paramètre :\n",
    "\n",
    "```python\n",
    "def duration_for(days:int):\n",
    "    pass  # cette instruction ne fait rien.\n",
    "```\n",
    "\n",
    "Vous pouvez maintenant voir l'information que vous allez avoir avec la fonction `help()`. Ils permettent ainsi d'informer sur le type attendu d'un paramètre."
   ]
  },
  {
   "cell_type": "markdown",
   "metadata": {},
   "source": [
    "## Généralisation\n",
    "La fonction précédente a été écrite dans le contexte fonctionnel de la formation. Mais nous pouvons la généraliser pour calculer une durée unitaire totale. Écrivons donc une fonction `duration_for` qui prendra en paramètre une quantité. Nous pouvons ajouter un paramètre pour la durée unitaire qui aura une valeur par défaut.\n",
    "\n",
    "Écrivez donc cette fonction `duration_for(how_many: int, unit_duration=7)` que nous allons pouvoir réutiliser."
   ]
  },
  {
   "cell_type": "code",
   "execution_count": null,
   "metadata": {},
   "outputs": [],
   "source": [
    "def duration_for(how_many: int , unit_duration=7):\n",
    "    pass"
   ]
  },
  {
   "cell_type": "markdown",
   "metadata": {},
   "source": [
    "Vous pouvez évidemment observer que cette fonction se comporte de la même manière ci-dessous."
   ]
  },
  {
   "cell_type": "code",
   "execution_count": null,
   "metadata": {},
   "outputs": [],
   "source": []
  }
 ],
 "metadata": {
  "kernelspec": {
   "display_name": "Python 3",
   "language": "python",
   "name": "python3"
  },
  "language_info": {
   "codemirror_mode": {
    "name": "ipython",
    "version": 3
   },
   "file_extension": ".py",
   "mimetype": "text/x-python",
   "name": "python",
   "nbconvert_exporter": "python",
   "pygments_lexer": "ipython3",
   "version": "3.8.0"
  }
 },
 "nbformat": 4,
 "nbformat_minor": 2
}
