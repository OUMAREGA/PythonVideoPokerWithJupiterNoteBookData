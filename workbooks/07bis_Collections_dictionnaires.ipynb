{
 "cells": [
  {
   "cell_type": "markdown",
   "metadata": {},
   "source": [
    "## Les collections\n",
    "Les collections sont des types de données qui contiennent plusieurs données. Nous avons vu :\n",
    " * les chaines de caractères (`str`)\n",
    " * les listes (`list`)\n",
    " * les tuples (`tuple`)\n",
    " * les dictionnaires (`dict`)\n",
    "\n",
    "Les Dictionnairs (`dict`) sont des collections non ordonnées de couples clef-valeur.\n",
    "\n",
    "### Exercices - dictionnaires\n",
    "Les questions suivantes vont vous faire manipuler les instructions principales.\n",
    "\n",
    "La cellule suivante crée un dictionnaire vide."
   ]
  },
  {
   "cell_type": "code",
   "execution_count": null,
   "metadata": {},
   "outputs": [],
   "source": [
    "training = {}"
   ]
  },
  {
   "cell_type": "markdown",
   "metadata": {},
   "source": [
    "Ajoutez une clef `subject` avec la valeur `Python`"
   ]
  },
  {
   "cell_type": "code",
   "execution_count": null,
   "metadata": {},
   "outputs": [],
   "source": []
  },
  {
   "cell_type": "markdown",
   "metadata": {},
   "source": [
    "Ajoutez une clef `duration` avec la valeur correspondant au nombre de jours de formation (ce nombre de jours est un entier"
   ]
  },
  {
   "cell_type": "code",
   "execution_count": null,
   "metadata": {},
   "outputs": [],
   "source": []
  },
  {
   "cell_type": "markdown",
   "metadata": {},
   "source": [
    "Affichez \"Clef exist\" si la clef `trainees` existe sinon \"Clef n'existe pas\""
   ]
  },
  {
   "cell_type": "code",
   "execution_count": null,
   "metadata": {},
   "outputs": [],
   "source": []
  },
  {
   "cell_type": "markdown",
   "metadata": {},
   "source": [
    "Créez la clef `trainees` et affectez lui une valeur correspondant au nombre de stagiaires."
   ]
  },
  {
   "cell_type": "code",
   "execution_count": null,
   "metadata": {},
   "outputs": [],
   "source": []
  },
  {
   "cell_type": "markdown",
   "metadata": {},
   "source": [
    "Affichez la liste des clefs"
   ]
  },
  {
   "cell_type": "code",
   "execution_count": null,
   "metadata": {},
   "outputs": [],
   "source": []
  },
  {
   "cell_type": "markdown",
   "metadata": {},
   "source": [
    "Modifiez la clef `trainees` pour que la valeur associée soit incrémentée de 2. **Attention**, n'affectez pas une nouvelle valeur mais la valeur actuelle incrémentée de 2."
   ]
  },
  {
   "cell_type": "code",
   "execution_count": null,
   "metadata": {},
   "outputs": [],
   "source": []
  },
  {
   "cell_type": "markdown",
   "metadata": {},
   "source": [
    "## Exercices : dictionnaires et fonctions\n",
    "Vous avez remarqué que les différentes questions précédentes permettent d'utiliser un dictionnaire comme structure de données et qu'ainsi, il est possible de modifier certaines informations de ces structures de données.\n",
    "\n",
    "Nous pouvons accéder directement à ces informations par leur clef, mais cela nécessite de connaitre les clefs. Et une faute d'orthographe peut entrainer des erreurs de manière parfaitement silencieuse. Par exemple :\n",
    "```python\n",
    "\n",
    "training = {}\n",
    "training[\"subject\"] = \"Pthon\"\n",
    "# Oups, erreur, il faut corriger\n",
    "training[\"suject\"] = \"Python\"\n",
    "```\n",
    "Dans cet exemple, la dernière ligne ne corrige pas la clef mais en ajoute une nouvelle. Mais la valeur incorrecte n'est pas corrigée et restera fausse.\n",
    "\n",
    "Pour éviter ce type d'erreur, nous allons utiliser des fonctions.\n",
    "\n",
    "Commencez par créer le corps de la fonction suivante qui **retourne** un dictionnaire avec une clef `subject` et une clef `duration`."
   ]
  },
  {
   "cell_type": "code",
   "execution_count": null,
   "metadata": {},
   "outputs": [],
   "source": [
    "def create_training(subject: str, duration: int):\n",
    "    pass  # TODO: remplacez le pass par l'implémentation"
   ]
  },
  {
   "cell_type": "markdown",
   "metadata": {},
   "source": [
    "Créez une fonction `add_trainees` ajoutant un nombre de participant (le paramètre est de type `int`)"
   ]
  },
  {
   "cell_type": "code",
   "execution_count": null,
   "metadata": {},
   "outputs": [],
   "source": []
  },
  {
   "cell_type": "markdown",
   "metadata": {},
   "source": [
    "Attention, n'oubliez pas un idiome en Python : si vous modifiez la valeur, alors la fonction ne doit rien retourner. Si la fonction retourne un dictionnaire représentant la formation, alors la donnée passée en paramètre ne doit pas être modifiée.\n",
    "\n",
    "* Créez une formation avec le sujet *Python* de *5* jours.\n",
    "* Répétez ensuite plusieurs fois l'ajout de participants.\n",
    "* Vérifiez ainsi que tout fonctionne bien."
   ]
  },
  {
   "cell_type": "code",
   "execution_count": null,
   "metadata": {},
   "outputs": [],
   "source": []
  },
  {
   "cell_type": "markdown",
   "metadata": {},
   "source": [
    "Pour finir, créez une fonction `should_cancel_training` qui retournera `True` si la formation a strictement moins de 3 participants, `False` sinon."
   ]
  },
  {
   "cell_type": "code",
   "execution_count": null,
   "metadata": {},
   "outputs": [],
   "source": []
  },
  {
   "cell_type": "markdown",
   "metadata": {},
   "source": [
    "Écrivez le code affichant le message adéquat dans la cellule suivante."
   ]
  },
  {
   "cell_type": "code",
   "execution_count": null,
   "metadata": {},
   "outputs": [],
   "source": [
    "TRAINING_CANCELED = \"La formation {} est annulée\"\n",
    "TRAINING_MAINTAINED = \"La formation {} est maintenue\""
   ]
  },
  {
   "cell_type": "code",
   "execution_count": null,
   "metadata": {},
   "outputs": [],
   "source": []
  }
 ],
 "metadata": {
  "kernelspec": {
   "display_name": "Python 3",
   "language": "python",
   "name": "python3"
  },
  "language_info": {
   "codemirror_mode": {
    "name": "ipython",
    "version": 3
   },
   "file_extension": ".py",
   "mimetype": "text/x-python",
   "name": "python",
   "nbconvert_exporter": "python",
   "pygments_lexer": "ipython3",
   "version": "3.8.0"
  }
 },
 "nbformat": 4,
 "nbformat_minor": 2
}
