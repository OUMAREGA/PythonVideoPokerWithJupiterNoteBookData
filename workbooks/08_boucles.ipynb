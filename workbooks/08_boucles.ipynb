{
 "cells": [
  {
   "cell_type": "markdown",
   "metadata": {},
   "source": [
    "# Les structures de contrôle\n",
    "Les structures de contrôle permettent d'exécuter du code soit\n",
    " - de manière conditionnelle\n",
    " - en boucle\n",
    "\n",
    "Les boucles consistent à définir du code qui sera répété plusieurs fois. Il existe deux structures pour deux cas différents :\n",
    "\n",
    " - La structure `for` permet d'itérer sur des collections.\n",
    "\n",
    " - La structure `while` exécute du code tant qu'une condition est vrai.\n",
    "\n",
    "### Exercices\n",
    "\n",
    "Soit la liste des 10 premier épisodes de la saison 12 de Big Bang Theory. Chacun a une durée de 23 minutes."
   ]
  },
  {
   "cell_type": "code",
   "execution_count": null,
   "metadata": {},
   "outputs": [],
   "source": [
    "bbt_s12 = [\"The Conjugal Configuration\",\n",
    "           \"The Wedding Gift Wormhole\",\n",
    "           \"The Procreation Calculation\",\n",
    "           \"The Tam Turbulence\",\n",
    "           \"The Planetarium Collision\",\n",
    "           \"The Imitation Perturbation\",\n",
    "           \"The Grant Allocation Derivation\",\n",
    "           \"The Consummation Deviation\",\n",
    "           \"The Citation Negation\",\n",
    "           \"The VCR Illumination\"]"
   ]
  },
  {
   "cell_type": "markdown",
   "metadata": {},
   "source": [
    "Vous avez écrit dans les exercices sur les listes les instructions pour calculer le nombre d'épisodes à visionner en 2 heures et l'instruction pour retourner afin de l'afficher et supprimer le premier épisode de la liste. Vous aviez répété cette instruction autant de fois que nécessaire à la main.\n",
    "\n",
    "Écrivez donc maintenant à l'aide d'une boucle ces instructions."
   ]
  },
  {
   "cell_type": "code",
   "execution_count": null,
   "metadata": {},
   "outputs": [],
   "source": []
  },
  {
   "cell_type": "markdown",
   "metadata": {},
   "source": [
    "### Boucles et dictionnaires : Compteur de mots (exercice avancé)\n",
    "\n",
    "Soit la chaine suivante."
   ]
  },
  {
   "cell_type": "code",
   "execution_count": null,
   "metadata": {},
   "outputs": [],
   "source": [
    "SENTENCE = 'Fear is the path to the dark side. Fear leads to anger. Anger leads to hate. Hate leads to suffering.'"
   ]
  },
  {
   "cell_type": "markdown",
   "metadata": {},
   "source": [
    "Nous souhaitons savoir combien de mots commencent par la lettre t (vous pouvez tester avec la méthode `\"mot\".startswith('t')`."
   ]
  },
  {
   "cell_type": "code",
   "execution_count": null,
   "metadata": {},
   "outputs": [],
   "source": []
  },
  {
   "cell_type": "markdown",
   "metadata": {},
   "source": [
    "Nous souhaitons générer un dictionnaire contenant la fréquence de tous les mots de la chaîne."
   ]
  },
  {
   "cell_type": "code",
   "execution_count": null,
   "metadata": {},
   "outputs": [],
   "source": []
  }
 ],
 "metadata": {
  "kernelspec": {
   "display_name": "Python 3",
   "language": "python",
   "name": "python3"
  },
  "language_info": {
   "codemirror_mode": {
    "name": "ipython",
    "version": 3
   },
   "file_extension": ".py",
   "mimetype": "text/x-python",
   "name": "python",
   "nbconvert_exporter": "python",
   "pygments_lexer": "ipython3",
   "version": "3.8.0"
  }
 },
 "nbformat": 4,
 "nbformat_minor": 1
}
