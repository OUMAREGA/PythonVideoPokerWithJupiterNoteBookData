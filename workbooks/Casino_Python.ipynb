{
 "cells": [
  {
   "cell_type": "markdown",
   "metadata": {},
   "source": [
    "Dans cette série de notebook, nous allons coder des jeux de casino en python."
   ]
  },
  {
   "cell_type": "markdown",
   "metadata": {},
   "source": [
    "### 1ère Partie"
   ]
  },
  {
   "cell_type": "markdown",
   "metadata": {},
   "source": [
    "### Poker éléctronique\n",
    "\n",
    "##### Règles du jeu:\n",
    "\n",
    "Le poker éléctronique est un jeu de type machine à sous,\n",
    "le joueur choisi sa mise, appui sur le bouton \"jouer\" et la machine lui propose un jeu de 5 cartes tirés d'un jeu de 52 cartes.\n",
    "Le jouer peut alors choisir des cartes à garder, il peut choisir d'en garder 0, 1, 2, 3 ou 4, puis rappuie sur le bouton. Selon le choix du joueur, la machine tire de nouveaux le nombre de carte qu'il faut pour constituer le tirage final. \n",
    "Enfin le joueur récupère ses gains qui correspondent au montant de sa mise multiplié par le gain correspondant à la combinaison obtenue sur le tirage final. Si il n'a aucune combinaison il perd sa mise.\n",
    "\n",
    "##### Combinaison et gains:\n",
    "\n",
    "-Paire : 2 cartes identiques => 1 fois la mise\n",
    "\n",
    "-Double Paire : deux fois 2 cartes identiques => 2 fois la mise\n",
    "\n",
    "-Brelan : 3 cartes identiques => 3 fois la mise\n",
    "\n",
    "-Quinte : 5 cartes consécutives => 4 fois la mise\n",
    "\n",
    "-Flush : 5 cartes de la même couleur => 6 fois la mise\n",
    "\n",
    "-Full : 1 paire + 1 brelan => 9 fois la mise\n",
    "\n",
    "-Carré : 4 cartes identiques => 25 fois la mise\n",
    "\n",
    "-Quinte Flush : 1 quinte de la même couleur => 50 fois la mise\n",
    "\n",
    "-Quinte Flush Royale : 1 quinte flush avec as, roi, dame, valet, 10 => 250 fois la mise."
   ]
  },
  {
   "cell_type": "code",
   "execution_count": 1,
   "metadata": {},
   "outputs": [
    {
     "ename": "ModuleNotFoundError",
     "evalue": "No module named 'pandas'",
     "output_type": "error",
     "traceback": [
      "\u001b[0;31m------------------------------------------------\u001b[0m",
      "\u001b[0;31mModuleNotFoundError\u001b[0mTraceback (most recent call last)",
      "\u001b[0;32m<ipython-input-1-27e6998bba4f>\u001b[0m in \u001b[0;36m<module>\u001b[0;34m\u001b[0m\n\u001b[0;32m----> 1\u001b[0;31m \u001b[0;32mimport\u001b[0m \u001b[0mpandas\u001b[0m \u001b[0;32mas\u001b[0m \u001b[0mpd\u001b[0m\u001b[0;34m\u001b[0m\u001b[0;34m\u001b[0m\u001b[0m\n\u001b[0m\u001b[1;32m      2\u001b[0m \u001b[0;32mimport\u001b[0m \u001b[0mrandom\u001b[0m\u001b[0;34m\u001b[0m\u001b[0;34m\u001b[0m\u001b[0m\n",
      "\u001b[0;31mModuleNotFoundError\u001b[0m: No module named 'pandas'"
     ]
    }
   ],
   "source": [
    "import pandas as pd\n",
    "import random"
   ]
  },
  {
   "cell_type": "markdown",
   "metadata": {},
   "source": [
    "Le deck represente le jeu de carte : \n",
    "\n",
    "chaque carte est représentée par :\n",
    "    \n",
    "- un chiffre ou un lettre majuscule qui représente la valeur de la carte ( J = Valet, Q = Dame, K = Roi, A = As )\n",
    "- une lettre minuscule qui représente la couleur ( h = Hearts = Coeur, d = Diamonds = Carreau, c = Clubs = Trèfle, s = Spades = Pique )"
   ]
  },
  {
   "cell_type": "code",
   "execution_count": null,
   "metadata": {},
   "outputs": [],
   "source": [
    "deck = ['2-h','3-h','4-h','5-h','6-h','7-h','8-h','9-h','10-h','J-h','Q-h','K-h','A-h','2-d','3-d','4-d','5-d','6-d','7-d','8-d','9-d','10-d','J-d','Q-d','K-d','A-d','2-c','3-c','4-c','5-c','6-c','7-c','8-c','9-c','10-c','J-c','Q-c','K-c','A-c','2-s','3-s','4-s','5-s','6-s','7-s','8-s','9-s','10-s','J-s','Q-s','K-s','A-s']"
   ]
  },
  {
   "cell_type": "code",
   "execution_count": null,
   "metadata": {},
   "outputs": [],
   "source": [
    "len(deck)"
   ]
  },
  {
   "cell_type": "markdown",
   "metadata": {},
   "source": [
    "Créer une fonction, nommée premier_tirage, permettant de faire un tirage aléatoire sans remise dans le deck.\n",
    "Les cartes tirées devront être retirées du deck pour le deuxième tirage.\n",
    "La fonction devra retourner le tirage, et le nouveau deck. "
   ]
  },
  {
   "cell_type": "code",
   "execution_count": null,
   "metadata": {},
   "outputs": [],
   "source": [
    "def premier_tirage(deck):\n",
    "    \n",
    "    tirage = random.sample(deck,5)\n",
    "    \n",
    "    for item in deck:\n",
    "        deck.remove(item)\n",
    "    \n",
    "    return tirage, deck"
   ]
  },
  {
   "cell_type": "markdown",
   "metadata": {},
   "source": [
    "Créer une fonction, nommée choix_carte, qui prend un tirage en entrée, et permet au joueur de choisir quelle carte il garde ou non pour le deuxième tirage. La fonction devra retourner le jeu avec les carte que le joueur aura garder."
   ]
  },
  {
   "cell_type": "code",
   "execution_count": null,
   "metadata": {},
   "outputs": [],
   "source": [
    "def choix_carte(tirage):\n",
    "    \n",
    "    remove_card = []\n",
    "    \n",
    "    for item in tirage:\n",
    "        print('Voulez-vous garder cette carte y/n : ', item)\n",
    "        bol = input()\n",
    "    \n",
    "        if(bol == 'n'):\n",
    "            remove_card.append(item)\n",
    "            \n",
    "    for item in remove_card:\n",
    "        tirage.remove(item)\n",
    "        \n",
    "        \n",
    "    return tirage"
   ]
  },
  {
   "cell_type": "markdown",
   "metadata": {},
   "source": [
    "Créer un fonction, nommée deuxieme_tirage, qui permet, à partir du jeu obtenu avec la fonction choix_carte et le deck obtenu avec la fonction premier tirage, de constituer le tirage final du joueur. La fonction devra retourner le tirage final."
   ]
  },
  {
   "cell_type": "code",
   "execution_count": null,
   "metadata": {},
   "outputs": [],
   "source": [
    "def deuxieme_tirage(jeu):\n",
    "    \n",
    "    if(len(jeu) < 5):\n",
    "        remaining = random.sample(deck,5-len(jeu))\n",
    "        for item in remaining:\n",
    "            jeu.append(item)\n",
    "        \n",
    "    return jeu\n",
    "\n",
    "#my_tuple = premier_tirage(deck)\n",
    "#tirage = my_tuple[0]\n",
    "#jeu = choix_carte(tirage)\n",
    "#deuxieme_tirage(jeu)"
   ]
  },
  {
   "cell_type": "markdown",
   "metadata": {},
   "source": [
    "Grâce aux fonctions créées précédemment, faire un fonction nommée machine, qui fait le premier tirage, l'affiche, propose au joueur les cartes afin de choisir celles à garder, puis fait le deuxième tirage et l'affiche et le retourne."
   ]
  },
  {
   "cell_type": "code",
   "execution_count": null,
   "metadata": {},
   "outputs": [],
   "source": [
    "def machine():\n",
    "    my_tuple = premier_tirage(deck)\n",
    "    first = my_tuple[0]\n",
    "    print(\"Le premier tirage {}\".format(first))\n",
    "    choice = choix_carte(first)\n",
    "    jeu = deuxieme_tirage(choice)\n",
    "    print(jeu)\n",
    "    \n",
    "    return jeu\n",
    "\n",
    "jeu = machine()"
   ]
  },
  {
   "cell_type": "markdown",
   "metadata": {},
   "source": [
    "Trouver un moyen de tester un tirage pour voir si il correspond à une des combinaisons gagnantes."
   ]
  },
  {
   "cell_type": "code",
   "execution_count": null,
   "metadata": {},
   "outputs": [],
   "source": [
    "#-Paire : 2 cartes identiques => 1 fois la mise\n",
    "#-Double Paire : deux fois 2 cartes identiques => 2 fois la mise\n",
    "#-Brelan : 3 cartes identiques => 3 fois la mise\n",
    "#-Quinte : 5 cartes consécutives => 4 fois la mise\n",
    "#-Flush : 5 cartes de la même couleur => 6 fois la mise\n",
    "#-Full : 1 paire + 1 brelan => 9 fois la mise\n",
    "#-Carré : 4 cartes identiques => 25 fois la mise\n",
    "#-Quinte Flush : 1 quinte de la même couleur => 50 fois la mise\n",
    "#-Quinte Flush Royale : 1 quinte flush avec as, roi, dame, valet, 10 => 250 fois la mise."
   ]
  },
  {
   "cell_type": "code",
   "execution_count": null,
   "metadata": {},
   "outputs": [],
   "source": [
    "def is_consecutive(jeu):\n",
    "    return sorted(jeu) == list(range(min(jeu), max(jeu)+1))"
   ]
  },
  {
   "cell_type": "code",
   "execution_count": null,
   "metadata": {},
   "outputs": [],
   "source": [
    "print(jeu)\n",
    "\n",
    "def is_win(jeu):\n",
    "    multiply = 0\n",
    "    card_list = []\n",
    "    color_list = []\n",
    "    royal = [10,11,12,13,14]\n",
    "    \n",
    "    for item in jeu:\n",
    "        \n",
    "        card, color = item.split('-')\n",
    "        \n",
    "        \n",
    "        \n",
    "        card_list.append(card)\n",
    "        color_list.append(color)\n",
    "        \n",
    "        duplicates_color = pd.Series(color_list).value_counts()\n",
    "        duplicates_card = pd.Series(card_list).value_counts()\n",
    "        \n",
    "        print(duplicates_card)\n",
    "        \n",
    "    for i in range(0, len(card_list)):\n",
    "        if card_list[i] == 'J':\n",
    "            card_list[i] = 11\n",
    "            \n",
    "        if card_list[i] == 'Q':\n",
    "            card_list[i] = 12\n",
    "            \n",
    "        if card_list[i] == 'K':\n",
    "            card_list[i] = 13\n",
    "            \n",
    "        if(card_list[i] == 'A'):\n",
    "            card_list[i] = 14\n",
    "         \n",
    "        card_list[i] = int(card_list[i])\n",
    "    \n",
    "    for item in card_list:\n",
    "        \n",
    "        my_count = card_list.count(item)\n",
    "        \n",
    "        if my_count == 2: #paire or double paire\n",
    "            multiply+=1\n",
    "            \n",
    "        if my_count == 3: #brelan\n",
    "            multiply = 6 \n",
    "            if multiply == 1: #full\n",
    "                multiply = 9         \n",
    "               \n",
    "        if my_count == 4:\n",
    "            multiply = 25\n",
    "            \n",
    "        if max(duplicates_color == 5): #Flush\n",
    "            mutiply = 6   \n",
    "        print(card_list)    \n",
    "        if is_consecutive(card_list): #quinte\n",
    "            multiply = 4\n",
    "            if max(duplicates_color == 5): #Quinte Flush\n",
    "                mutiply = 50\n",
    "                if sorted(royal) == sorted(card_list):\n",
    "                    multiply = 250\n",
    "    return multiply              \n",
    "         \n",
    "            \n",
    "is_win(jeu)    \n",
    "    "
   ]
  },
  {
   "cell_type": "markdown",
   "metadata": {},
   "source": [
    "Créer une fonction permettant de calculer les gains et d'afficher le résultat au joueur."
   ]
  },
  {
   "cell_type": "code",
   "execution_count": null,
   "metadata": {},
   "outputs": [],
   "source": [
    "def calcul_gain(jeu,mise):\n",
    "    multiply = is_win(jeu)\n",
    "    return multiply*mise"
   ]
  },
  {
   "cell_type": "markdown",
   "metadata": {},
   "source": [
    "Créer une fonction, nommée partie, qui prend en entrée une mise et une bankroll (total de l'argent disponible pour jouer), perment de faire le tirage, et calcule la nouvelle bankroll en fonction des gains. La fonction devra retourner le resultat de la partie et la nouvelle bankroll."
   ]
  },
  {
   "cell_type": "code",
   "execution_count": null,
   "metadata": {},
   "outputs": [],
   "source": [
    "def partie(bankrool, mise):\n",
    "    \n",
    "    jeu = machine()\n",
    "    bankrool-=mise\n",
    "    gain = calcul_gain(jeu, mise)\n",
    "    bankrool+=gain\n",
    "    \n",
    "    return bankrool\n",
    "    \n",
    "partie(100,10)    "
   ]
  },
  {
   "cell_type": "markdown",
   "metadata": {},
   "source": [
    "Créer une fonction, nommée video_poker, qui permet au joueur \"d'inserer de l'argent\" (bankroll), de choisir la mise puis de jouer jusqu'a avoir tout perdu (ou pas si il a de la chance!)"
   ]
  },
  {
   "cell_type": "code",
   "execution_count": null,
   "metadata": {},
   "outputs": [],
   "source": [
    "deck = ['2-h','3-h','4-h','5-h','6-h','7-h','8-h','9-h','10-h','J-h','Q-h','K-h','A-h','2-d','3-d','4-d','5-d','6-d','7-d','8-d','9-d','10-d','J-d','Q-d','K-d','A-d','2-c','3-c','4-c','5-c','6-c','7-c','8-c','9-c','10-c','J-c','Q-c','K-c','A-c','2-s','3-s','4-s','5-s','6-s','7-s','8-s','9-s','10-s','J-s','Q-s','K-s','A-s']\n",
    "def video_poker():\n",
    "    print(\"**************Bienvenue dans votre jeu video poker**************\")\n",
    "    print(\"* Inserer votre bankroll                                       *\")\n",
    "    bankroll = int(input())\n",
    "    \n",
    "    response = True\n",
    "    \n",
    "    while response:\n",
    "        \n",
    "        print(\"* Saississez votre mise                                        *\")\n",
    "        mise = int(input())\n",
    "        bankroll = partie(bankroll, mise)\n",
    "        print(bankroll)\n",
    "        \n",
    "        print(\"Voulez-vous continuer y/n\")\n",
    "        bol = input()\n",
    "        \n",
    "        if bol =='n':\n",
    "            response = False\n",
    "    print('Bye à la prochaine')     \n",
    "    \n",
    "video_poker()    \n",
    "    "
   ]
  },
  {
   "cell_type": "markdown",
   "metadata": {},
   "source": [
    "Reprenez le notebook en scripts, et executez votre programme dans votre terminal."
   ]
  },
  {
   "cell_type": "code",
   "execution_count": null,
   "metadata": {},
   "outputs": [],
   "source": []
  }
 ],
 "metadata": {
  "kernelspec": {
   "display_name": "Python 3",
   "language": "python",
   "name": "python3"
  },
  "language_info": {
   "codemirror_mode": {
    "name": "ipython",
    "version": 3
   },
   "file_extension": ".py",
   "mimetype": "text/x-python",
   "name": "python",
   "nbconvert_exporter": "python",
   "pygments_lexer": "ipython3",
   "version": "3.8.5"
  },
  "pycharm": {
   "stem_cell": {
    "cell_type": "raw",
    "metadata": {
     "collapsed": false
    },
    "source": []
   }
  }
 },
 "nbformat": 4,
 "nbformat_minor": 4
}
