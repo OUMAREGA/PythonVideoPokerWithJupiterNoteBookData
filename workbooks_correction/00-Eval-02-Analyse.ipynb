{
 "cells": [
  {
   "cell_type": "markdown",
   "metadata": {},
   "source": [
    "# Identifier des palindromes\n",
    "Nous souhaitons tester si chaque chaine d'une liste est un palindrome. Un palindrome est une figure de style désignant un texte ou un mot dont l'ordre des lettres (hors espaces) reste le même qu'on le lise de gauche à droite ou de droite à gauche.\n",
    "\n",
    "Nous souhaitons donc produire une liste où chaque élément à l'ordre `i` de cette liste est un booléen de valeur `True` si l'élément d'ordre i de la liste évaluée est un palindrome, sinon `False`.\n",
    "\n",
    "La liste suivante `SENTENCES` est une liste de chaines de caractères que vous allez utiliser. En comparant les caractères, vous aurez pour `La mariée ira mal` une évaluation fausse car `é` ≠ `e`.\n",
    "\n",
    "Écrivez le code qui permet de mettre à jour "
   ]
  },
  {
   "cell_type": "code",
   "execution_count": null,
   "metadata": {},
   "outputs": [],
   "source": [
    "SENTENCES = [\"Esope reste ici et se repose\",\n",
    "             \"La mariée ira mal\",\n",
    "             \"Pas un palindrome\",\n",
    "             \"radar\"]"
   ]
  },
  {
   "cell_type": "markdown",
   "metadata": {},
   "source": [
    "Vous pouvez écrire ce code dans la fonction suivante."
   ]
  },
  {
   "cell_type": "code",
   "execution_count": null,
   "metadata": {},
   "outputs": [],
   "source": [
    "def is_palindrome(sentence: str) -> bool:\n",
    "    sentence = sentence.lower().replace(' ', '')\n",
    "    for index, char in enumerate(sentence[:len(sentence) // 2]):\n",
    "        if char != sentence[-(index + 1)]:\n",
    "            return False\n",
    "        \n",
    "    return True"
   ]
  },
  {
   "cell_type": "markdown",
   "metadata": {},
   "source": [
    "Puis l'utiliser pour convertir la liste `SENTENCES`."
   ]
  },
  {
   "cell_type": "code",
   "execution_count": null,
   "metadata": {},
   "outputs": [],
   "source": [
    "[is_palindrome(sentence) for sentence in SENTENCES]"
   ]
  }
 ],
 "metadata": {
  "kernelspec": {
   "display_name": "Python 3",
   "language": "python",
   "name": "python3"
  },
  "language_info": {
   "codemirror_mode": {
    "name": "ipython",
    "version": 3
   },
   "file_extension": ".py",
   "mimetype": "text/x-python",
   "name": "python",
   "nbconvert_exporter": "python",
   "pygments_lexer": "ipython3",
   "version": "3.7.0"
  }
 },
 "nbformat": 4,
 "nbformat_minor": 1
}
