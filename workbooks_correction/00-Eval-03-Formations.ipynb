{
 "cells": [
  {
   "cell_type": "markdown",
   "metadata": {},
   "source": [
    "# Gestion de formations\n",
    "Nous allons gérer des formations. Une formation est représentée par un nom (son sujet), sa durée (int, nombre de jours) et le nombre de participants. Nous allons utilser des dictionnaires pour traiter ces données complexes.\n",
    "\n",
    "Plutôt que de traiter les données *à la main*, nous allons écrire des fonctions pour les différentes actions.\n",
    "\n",
    "Commencez par écrire une fonction qui prend en paramètre un nom de formation et sa durée et retourne un dictionnaire"
   ]
  },
  {
   "cell_type": "code",
   "execution_count": null,
   "metadata": {},
   "outputs": [],
   "source": [
    "def create_training(subject, duration):\n",
    "    return {'subject': subject, 'duration': int(duration)}"
   ]
  },
  {
   "cell_type": "markdown",
   "metadata": {},
   "source": [
    "Écrivez une fonction qui permet de rajouter un nombre n de participants passé en paramètre à une formation. n est un entier positif."
   ]
  },
  {
   "cell_type": "code",
   "execution_count": null,
   "metadata": {},
   "outputs": [],
   "source": [
    "def add_attendees(training, how_many):\n",
    "    training['attendees'] = training.get('attendees', 0) + int(how_many)"
   ]
  },
  {
   "cell_type": "markdown",
   "metadata": {},
   "source": [
    "Créez des foramtions 'Python', 'Initiation programmation', 'Python Spécifique' de 5, 2 et 3 jours. Stockez ces formations dans une liste."
   ]
  },
  {
   "cell_type": "code",
   "execution_count": null,
   "metadata": {},
   "outputs": [],
   "source": [
    "trainings_descritpion = [('Python', 5), ('Initiation programmation', 2), ('Python Spécifique', 3)]\n",
    "\n",
    "[create_training(subject, duration)\n",
    " for subject, duration in trainings_descritpion]"
   ]
  },
  {
   "cell_type": "code",
   "execution_count": null,
   "metadata": {},
   "outputs": [],
   "source": [
    "[create_training(*training)\n",
    " for training in trainings_descritpion]"
   ]
  },
  {
   "cell_type": "code",
   "execution_count": null,
   "metadata": {},
   "outputs": [],
   "source": [
    "trainings = [create_training(*training) \n",
    "             for training in trainings_descritpion]"
   ]
  },
  {
   "cell_type": "markdown",
   "metadata": {},
   "source": [
    "Ajoutez à chaque formation quelques participants."
   ]
  },
  {
   "cell_type": "code",
   "execution_count": null,
   "metadata": {},
   "outputs": [],
   "source": [
    "add_attendees(trainings[0], 2)\n",
    "add_attendees(trainings[1], 4)\n",
    "add_attendees(trainings[0], 3)"
   ]
  },
  {
   "cell_type": "markdown",
   "metadata": {},
   "source": [
    "Créez une fonction qui prend en paramètre une liste de formations et affiche pour chaque formation son nom et son cout en fonction du nombre de jours et de participants."
   ]
  },
  {
   "cell_type": "code",
   "execution_count": null,
   "metadata": {},
   "outputs": [],
   "source": [
    "def display_cost(trainigs, cost_per_day=200):\n",
    "    for training in trainings:\n",
    "        print(f\"{training['subject']}: {training['duration'] * training.get('attendees', 0) * cost_per_day} €\")"
   ]
  },
  {
   "cell_type": "code",
   "execution_count": null,
   "metadata": {},
   "outputs": [],
   "source": [
    "display_cost(trainings)"
   ]
  }
 ],
 "metadata": {
  "kernelspec": {
   "display_name": "Python 3",
   "language": "python",
   "name": "python3"
  },
  "language_info": {
   "codemirror_mode": {
    "name": "ipython",
    "version": 3
   },
   "file_extension": ".py",
   "mimetype": "text/x-python",
   "name": "python",
   "nbconvert_exporter": "python",
   "pygments_lexer": "ipython3",
   "version": "3.7.0"
  }
 },
 "nbformat": 4,
 "nbformat_minor": 2
}
