{
 "cells": [
  {
   "cell_type": "markdown",
   "metadata": {},
   "source": [
    "# Paramètres et présentation des données\n",
    "\n",
    "## Paramètres d'un programme\n",
    "L'intérêt d'un programme est d'utiliser différentes données pour effectuer un même traitement. Il faudra donc fournir des données *variables*.\n",
    "\n",
    "Il est naturel d'envisager un échange avec un utilisateur, le programme pose une question et traite la donnée. C'est la manière dont vous utilisez les programmes avec des interfaces graphiques.\n",
    "\n",
    "Python propose une fonction basique pour cela, `input()`. La fonction `input` attend une saisie de l'utilisateur et retourne cette saisie comme une donnée de type chaine de caractères. Pensez donc à la transtyper au besoin.\n",
    "```python\n",
    "name = input('Quel est votre langage favori ? ')\n",
    "print(name)\n",
    "year = int(input('Quand a-t-il été créé ? ')\n",
    "print(year)\n",
    "```\n",
    "\n",
    "Cette fonction permet donc de créer une interface dans un terminal (invite de commandes). Nous ne nous attarderons pas sur l'utilisation de cette fonction. Pour exécuter un programme avec différentes valeurs dans le cadre de Jupyter, il est plus simple de dédier une cellule à la déclaration des variables et modifier les valeurs avant chaque exécution.\n",
    "\n",
    "Ainsi, cette première cellule déclare les données paramètres du programme"
   ]
  },
  {
   "cell_type": "code",
   "execution_count": null,
   "metadata": {},
   "outputs": [],
   "source": [
    "name = \"Python\"\n",
    "year = 1989"
   ]
  },
  {
   "cell_type": "markdown",
   "metadata": {},
   "source": [
    "Et la ou les cellule(s) suivante(s) traitent ces données (les dates seront vues ultérieurement)."
   ]
  },
  {
   "cell_type": "code",
   "execution_count": null,
   "metadata": {},
   "outputs": [],
   "source": [
    "import datetime as dt\n",
    "\n",
    "print(f\"{name} a été créé en {year}\")\n",
    "print(f\"C'était il y a {dt.datetime.now().year - year} ans\")"
   ]
  },
  {
   "cell_type": "markdown",
   "metadata": {},
   "source": [
    "Notez qu'ainsi, vous pouvez écrire un programme dans un Notebook, le paramétrer au besoin et l'exécuter entièrement grâce à l'entrée du menu `Cell/Run all`."
   ]
  },
  {
   "cell_type": "markdown",
   "metadata": {},
   "source": [
    "## Mise en forme de chaines de caractères\n",
    "Jusqu'ici, nous n'avons affiché que la donnée générée mais il est souvent plus adapté de la mettre en forme dans une chaine de caractères. L'outil le plus efficace est la méthode `format()` des chaines de caractères :\n",
    "```python\n",
    "pref_string = \"Mon langage favori est {}\"\n",
    "print(pref_string.format(name))\n",
    "```\n",
    "Les accolades permettent de mettre en forme les données à afficher. Le microlangage étant assez complexe, je vous invite à consulter [la documentation](https://docs.python.org/3.6/library/string.html#format-string-syntax) pour les fonctionnalités exhaustives.\n",
    "\n",
    "On retiendra les plus courantes :\n",
    " * `{1}` permet d'afficher le second élément de la liste des données.\n",
    " * `{:.2f}` permet d'afficher la donnée sous forme de réel avec deux chiffres après la virgule\n",
    " * `{:10}` réserve 10 espaces pour afficher la donnée\n",
    " * `{:10.2f}` réserve 10 espaces pour afficher un réel avec deux chiffres après la virgule\n",
    " * `{1:10.2f}` réserve 10 espaces pour afficher sous forme de réel avec deux chiffres après la virgule le second élément de la liste des données\n",
    "### Exercices\n",
    "Reprenons l'exercice sur la vitesse calculée précédemment et améliorons l'affichage en imposant deux chiffres après le point décimal."
   ]
  },
  {
   "cell_type": "code",
   "execution_count": null,
   "metadata": {},
   "outputs": [],
   "source": [
    "temps = 6.892\n",
    "distance = 19.7\n",
    "\n",
    "print(\"{:.2F}\".format(distance / temps))"
   ]
  },
  {
   "cell_type": "markdown",
   "metadata": {},
   "source": [
    "## Opérations sur les données\n",
    "Nous allons maintenant combiner traitement de données et affichage.\n",
    "### Exercices\n",
    "La cellule suivante déclare deux constantes pour des chaines de *templates* de mise en forme. Vous allez les utiliser pour les questions suivantes."
   ]
  },
  {
   "cell_type": "code",
   "execution_count": 3,
   "metadata": {},
   "outputs": [],
   "source": [
    "TIME_REMAINING = 'Il reste {}h{} à visionner.'\n",
    "END_HOURE = 'Vous aurez fini de regarder vos émission à {}h{}'"
   ]
  },
  {
   "cell_type": "markdown",
   "metadata": {},
   "source": [
    "Il me reste 3 épisodes de 53 minutes de Stranger Things à regarder. Combien de temps (en heures et minutes) cela représente-t-il ?"
   ]
  },
  {
   "cell_type": "code",
   "execution_count": 4,
   "metadata": {},
   "outputs": [
    {
     "name": "stdout",
     "output_type": "stream",
     "text": [
      "Il reste 2h39 à visionner.\n"
     ]
    }
   ],
   "source": [
    "EPISODE_DURATION = 53\n",
    "total_time = 3 * EPISODE_DURATION\n",
    "\n",
    "total_hours = total_time // 60\n",
    "total_minutes = total_time % 60\n",
    "\n",
    "print(TIME_REMAINING.format(total_hours, total_minutes))"
   ]
  },
  {
   "cell_type": "markdown",
   "metadata": {},
   "source": [
    "La variable suivante représente l'heure de début de ma séance, récupérée sur forme d'une chaine de caractères. Quelle sera l'heure de fin si je les regarde à la suite ?"
   ]
  },
  {
   "cell_type": "code",
   "execution_count": 5,
   "metadata": {},
   "outputs": [],
   "source": [
    "start_data = \"20h42\""
   ]
  },
  {
   "cell_type": "code",
   "execution_count": 7,
   "metadata": {},
   "outputs": [
    {
     "name": "stdout",
     "output_type": "stream",
     "text": [
      "Vous aurez fini de regarder vos émission à 23h21\n"
     ]
    }
   ],
   "source": [
    "start_hour, start_minutes = start_data.split(\"h\")\n",
    "end_time = int(start_hour) * 60 + int(start_minutes) + total_time\n",
    "\n",
    "end_hour, end_minutes = divmod(end_time, 60)\n",
    "print(END_HOURE.format(end_hour, end_minutes))"
   ]
  },
  {
   "cell_type": "markdown",
   "metadata": {},
   "source": [
    "Mais nous pouvons également utiliser les fonctions que nous avons créé jusqu'ici"
   ]
  },
  {
   "cell_type": "code",
   "execution_count": 10,
   "metadata": {},
   "outputs": [
    {
     "name": "stdout",
     "output_type": "stream",
     "text": [
      "Il reste 2h39 à visionner.\n",
      "Vous aurez fini de regarder vos émission à 23h21\n"
     ]
    }
   ],
   "source": [
    "import wblib.helpers as h\n",
    "\n",
    "total_time = h.duration_for(3, unit_duration=53)\n",
    "\n",
    "total_hours, total_minutes = divmod(total_time, 60)\n",
    "\n",
    "print(TIME_REMAINING.format(total_hours, total_minutes))\n",
    "\n",
    "start_hour, start_minutes = start_data.split(\"h\")\n",
    "\n",
    "end_hour, end_minutes = divmod(h.to_minutes(start_hour, start_minutes)\n",
    "                               + total_time, 60)\n",
    "print(END_HOURE.format(end_hour, end_minutes))"
   ]
  },
  {
   "cell_type": "markdown",
   "metadata": {},
   "source": [
    "Et nous pouvons avoir l'approche en déballant les données"
   ]
  },
  {
   "cell_type": "code",
   "execution_count": 13,
   "metadata": {},
   "outputs": [
    {
     "name": "stdout",
     "output_type": "stream",
     "text": [
      "Il reste 2h39 à visionner.\n",
      "Vous aurez fini de regarder vos émission à 23h21\n"
     ]
    }
   ],
   "source": [
    "import wblib.helpers as h\n",
    "\n",
    "total_time = h.duration_for(3, unit_duration=53)\n",
    "\n",
    "print(TIME_REMAINING.format(*divmod(total_time, 60)))\n",
    "\n",
    "print(END_HOURE.format(*divmod(h.to_minutes(*start_data.split(\"h\"))\n",
    "                               + total_time,\n",
    "                               60)))"
   ]
  },
  {
   "cell_type": "code",
   "execution_count": null,
   "metadata": {},
   "outputs": [],
   "source": []
  }
 ],
 "metadata": {
  "kernelspec": {
   "display_name": "Python 3",
   "language": "python",
   "name": "python3"
  },
  "language_info": {
   "codemirror_mode": {
    "name": "ipython",
    "version": 3
   },
   "file_extension": ".py",
   "mimetype": "text/x-python",
   "name": "python",
   "nbconvert_exporter": "python",
   "pygments_lexer": "ipython3",
   "version": "3.8.0"
  }
 },
 "nbformat": 4,
 "nbformat_minor": 1
}
