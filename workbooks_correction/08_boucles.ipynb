{
 "cells": [
  {
   "cell_type": "markdown",
   "metadata": {},
   "source": [
    "# Les structures de contrôle\n",
    "Les structures de contrôle permettent d'exécuter du code soit\n",
    " - de manière conditionnelle\n",
    " - en boucle\n",
    "\n",
    "Les boucles consistent à définir du code qui sera répété plusieurs fois. Il existe deux structures pour deux cas différents :\n",
    "\n",
    " - La structure `for` permet d'itérer sur des collections.\n",
    "\n",
    " - La structure `while` exécute du code tant qu'une condition est vrai.\n",
    "\n",
    "### Exercices\n",
    "\n",
    "Affichez chaque caractère d’une chaine en utilisant la boucle for"
   ]
  },
  {
   "cell_type": "code",
   "execution_count": null,
   "metadata": {},
   "outputs": [],
   "source": [
    "collection = \"Arthur\"\n",
    "for char in collection:\n",
    "    print(char)"
   ]
  },
  {
   "cell_type": "markdown",
   "metadata": {},
   "source": [
    "Affichez chaque élément d’une liste en utilisant la boucle for"
   ]
  },
  {
   "cell_type": "code",
   "execution_count": null,
   "metadata": {},
   "outputs": [],
   "source": [
    "collection = [\"Arthur\", \"Lancelot\", \"Robin\"]\n",
    "for element in collection:\n",
    "    print(element)"
   ]
  },
  {
   "cell_type": "markdown",
   "metadata": {},
   "source": [
    "Soit la liste des 10 premier épisodes de la saison 12 de Big Bang Theory. Chacun a une durée de 23 minutes."
   ]
  },
  {
   "cell_type": "code",
   "execution_count": null,
   "metadata": {},
   "outputs": [],
   "source": [
    "bbt_s12 = [\"The Conjugal Configuration\",\n",
    "           \"The Wedding Gift Wormhole\",\n",
    "           \"The Procreation Calculation\",\n",
    "           \"The Tam Turbulence\",\n",
    "           \"The Planetarium Collision\",\n",
    "           \"The Imitation Perturbation\",\n",
    "           \"The Grant Allocation Derivation\",\n",
    "           \"The Consummation Deviation\",\n",
    "           \"The Citation Negation\",\n",
    "           \"The VCR Illumination\"]"
   ]
  },
  {
   "cell_type": "markdown",
   "metadata": {},
   "source": [
    "Vous avez écrit dans les exercices sur les listes les instructions pour calculer le nombre d'épisodes à visionner en 2 heures et l'instruction pour retourner afin de l'afficher et supprimer le premier épisode de la liste. Vous aviez répété cette instruction autant de fois que nécessaire à la main.\n",
    "\n",
    "Écrivez donc maintenant à l'aide d'une boucle ces instructions."
   ]
  },
  {
   "cell_type": "code",
   "execution_count": null,
   "metadata": {},
   "outputs": [],
   "source": [
    "for _ in range(120 // 23):\n",
    "    print(bbt_s12.pop(0))"
   ]
  },
  {
   "cell_type": "markdown",
   "metadata": {},
   "source": [
    "### Boucles et dictionnaires : Compteur de mots (exercice avancé)\n",
    "\n",
    "Soit la chaine suivante."
   ]
  },
  {
   "cell_type": "code",
   "execution_count": null,
   "metadata": {},
   "outputs": [],
   "source": [
    "SENTENCE = 'Fear is the path to the dark side. Fear leads to anger. Anger leads to hate. Hate leads to suffering.'"
   ]
  },
  {
   "cell_type": "markdown",
   "metadata": {},
   "source": [
    "Nous souhaitons savoir combien de mots commencent par la lettre t (vous pouvez tester avec la méthode `\"mot\".startswith('t')`."
   ]
  },
  {
   "cell_type": "code",
   "execution_count": null,
   "metadata": {},
   "outputs": [],
   "source": [
    "t_count = 0\n",
    "\n",
    "for word in SENTENCE.lower().split():\n",
    "    if word.startswith('t'):\n",
    "        t_count += 1\n",
    "        \n",
    "print(t_count)"
   ]
  },
  {
   "cell_type": "markdown",
   "metadata": {},
   "source": [
    "Nous souhaitons générer un dictionnaire contenant la fréquence de tous les mots de la chaîne."
   ]
  },
  {
   "cell_type": "code",
   "execution_count": null,
   "metadata": {},
   "outputs": [],
   "source": [
    "# Ceci est l'algorythme C classique\n",
    "\n",
    "words_count = dict()\n",
    "\n",
    "for word in SENTENCE.replace('.', '').lower().split():\n",
    "    if word in words_count:\n",
    "        words_count[word] += 1\n",
    "    else:\n",
    "        words_count[word] = 1\n",
    "        \n",
    "print(words_count)"
   ]
  },
  {
   "cell_type": "code",
   "execution_count": null,
   "metadata": {},
   "outputs": [],
   "source": [
    "# Ceci est l'utilisation d'idiome Python\n",
    "\n",
    "words_count = dict()\n",
    "\n",
    "for word in SENTENCE.replace('.', '').lower().split():\n",
    "    words_count[word] = words_count.get(word, 0) + 1\n",
    "        \n",
    "print(words_count)"
   ]
  }
 ],
 "metadata": {
  "kernelspec": {
   "display_name": "Python 3",
   "language": "python",
   "name": "python3"
  },
  "language_info": {
   "codemirror_mode": {
    "name": "ipython",
    "version": 3
   },
   "file_extension": ".py",
   "mimetype": "text/x-python",
   "name": "python",
   "nbconvert_exporter": "python",
   "pygments_lexer": "ipython3",
   "version": "3.7.0"
  }
 },
 "nbformat": 4,
 "nbformat_minor": 1
}
