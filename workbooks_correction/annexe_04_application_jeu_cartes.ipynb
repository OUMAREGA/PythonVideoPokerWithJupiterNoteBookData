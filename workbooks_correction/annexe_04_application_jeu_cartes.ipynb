{
 "cells": [
  {
   "cell_type": "markdown",
   "metadata": {
    "collapsed": true
   },
   "source": [
    "# Cas pratique : jeu de cartes\n",
    "\n",
    "**Attention** : cet exercice exploite les caractères Unicode représentant les cartes à jouer. Il apparrait que ces caractères ne sont pas disponibles sur un système Windows. Si la carte Roi de Trêfle n'apparait pas après l'exécution de la cellule suivante, votre système ne permet pas cet exercice.\n",
    "\n",
    "## Présentation\n",
    "\n",
    "On peut utiliser les représentation Unicode pour afficher des caractères spéciaux en Python. Les cartes à jouer sont représentés entre les codes `0x1f0a1` et `0x1f0de` et le dos avec `0x1f0a0`. On peut donc afficher une carte par l'instruction suivante."
   ]
  },
  {
   "cell_type": "code",
   "execution_count": null,
   "metadata": {},
   "outputs": [],
   "source": [
    "print(chr(0x1f0de))"
   ]
  },
  {
   "cell_type": "markdown",
   "metadata": {},
   "source": [
    "Vous pouvez aussi utiliser la fonction `range()` avec les hexa"
   ]
  },
  {
   "cell_type": "code",
   "execution_count": null,
   "metadata": {},
   "outputs": [],
   "source": [
    "list(range(0x1f0da, 0x1f0df))"
   ]
  },
  {
   "cell_type": "markdown",
   "metadata": {},
   "source": [
    "## jouons aux cartes\n",
    "\n",
    "Les cartes sont plus précisemment représentées par couleur entre les caractères `0x1f0[a-d]1` et `0x1f0[a-d]e`. Il ne faut pas utiliser les caractères `0x1f0[a-c]f` et `0x1f0[b-d]0`.\n",
    "\n",
    "Complétez le code permétant de créer une variable `deck` qui est une liste qui contiendra un jeu de cartes ordonné."
   ]
  },
  {
   "cell_type": "code",
   "execution_count": null,
   "metadata": {},
   "outputs": [],
   "source": [
    "deck = [chr(x) for x in (list(range(0x1f0a1, 0x1f0af))\n",
    "                         + list(range(0x1f0b1, 0x1f0bf))\n",
    "                         + list(range(0x1f0c1, 0x1f0cf))\n",
    "                         + list(range(0x1f0d1, 0x1f0df)))]\n",
    "print(deck)\n",
    "print(len(deck))"
   ]
  },
  {
   "cell_type": "markdown",
   "metadata": {},
   "source": [
    "Vous avez remarqué que chaque couleur a 14 cartes. L'encodage unicode des cartes permet de représenter un jeu de tarot et contient le cavalier. Pour la suite des travaux pratique, on utilisera donc un jeu de 58 cartes.\n",
    "\n",
    "Nous souhaitons maintenant distribuer une main de 5 cartes. Ce sont les 5 premières qui sont distribuées dans la main.\n",
    "\n",
    "Écrivez le code qui permet d'assigner à une variable `hand` une liste de 5 cartes qui sont les 5 premières cartes du deck."
   ]
  },
  {
   "cell_type": "code",
   "execution_count": null,
   "metadata": {},
   "outputs": [],
   "source": [
    "hand = deck[:5]\n",
    "deck = deck[5:]\n",
    "\n",
    "print(hand)"
   ]
  },
  {
   "cell_type": "markdown",
   "metadata": {},
   "source": [
    "Récrivez ou complétez ce code en vous assurant que les cartes distribuées ne font plus parti du deck."
   ]
  },
  {
   "cell_type": "code",
   "execution_count": null,
   "metadata": {},
   "outputs": [],
   "source": [
    "print(len(deck) == 53)"
   ]
  },
  {
   "cell_type": "markdown",
   "metadata": {},
   "source": [
    "Il y a maintenant 2 joueurs et on doit donc distribuer 2 mains. Les cartes sont tirées du `deck` et distribuées alternativement à chaque main (première carte au premier jouer, seconde au second, troisième au premier, quatrième au second…).\n",
    "\n",
    "Écrivez le code qui permet de distribuer 2 mains."
   ]
  },
  {
   "cell_type": "code",
   "execution_count": null,
   "metadata": {},
   "outputs": [],
   "source": [
    "hand_player1 = deck[:10:2]\n",
    "hand_player2 = deck[1:11:2]\n",
    "deck = deck[10:]\n",
    "\n",
    "print(hand_player1)\n",
    "print(hand_player2)"
   ]
  },
  {
   "cell_type": "markdown",
   "metadata": {},
   "source": [
    "Soit `n_players` le nombre de joueurs.\n",
    "\n",
    "Écrivez une structure qui utilise cette variable pour tirer autant de mains que les joueurs et les afficher."
   ]
  },
  {
   "cell_type": "code",
   "execution_count": null,
   "metadata": {},
   "outputs": [],
   "source": [
    "n_players = 4\n",
    "for player in range(n_players):\n",
    "    print(deck[0 + player: (5*n_players) + player: n_players])"
   ]
  },
  {
   "cell_type": "markdown",
   "metadata": {},
   "source": [
    "Écrivez une fonction `draw_hands` qui prend en paramètre le nombre de joueur et un deck et qui retourne deux résultats:\n",
    "* une liste des mains des joueurs (liste de listes de cartes)\n",
    "* un deck qui contient les cartes restantes dans le deck.\n",
    "\n",
    "note: vous pouvez créer une fonction `new_deck` afin de générer un nouveau deck car celui que vous utilisez depuis le début du workbook se réduit de plus en plus…"
   ]
  },
  {
   "cell_type": "code",
   "execution_count": null,
   "metadata": {},
   "outputs": [],
   "source": [
    "def new_deck():\n",
    "    return [chr(x) for x in (list(range(0x1f0a1, 0x1f0af))\n",
    "                         + list(range(0x1f0b1, 0x1f0bf))\n",
    "                         + list(range(0x1f0c1, 0x1f0cf))\n",
    "                         + list(range(0x1f0d1, 0x1f0df)))]\n",
    "\n",
    "\n",
    "def draw_hands(number_players, fdeck):\n",
    "    \"\"\"\n",
    "    La fonction utilise des variables fdeck et fplayer pour éviter la confusion avec les noms des variables globales.\n",
    "\n",
    "    :param number_players:\n",
    "    :param fdeck:\n",
    "    :return:\n",
    "    \"\"\"\n",
    "    hands = []\n",
    "\n",
    "    if len(fdeck) == 58:\n",
    "        import random\n",
    "        random.shuffle(fdeck)\n",
    "\n",
    "    for fplayer in range(number_players):\n",
    "        hands.append(fdeck[0 + fplayer: (5 * number_players) + fplayer: number_players])\n",
    "    fdeck = fdeck[number_players * 5:]\n",
    "\n",
    "    return hands, fdeck\n",
    "\n",
    "print(draw_hands(4, new_deck()))"
   ]
  },
  {
   "cell_type": "markdown",
   "metadata": {},
   "source": [
    "Python propose un module `random` qui contient des outils intéressants pour simuler une vrai parti de cartes. Ce module contient une fonction `shuffle(list)` qui *mélange* le contenu d'une liste. Attention, `shuffle` retourne `None`, la fonction *mélange* la liste elle-même.\n",
    "\n",
    "Modifiez la fonction précédente pour qu'elle mélange un nouveau deck et uniquement un nouveau deck avant de distribuer les cartes."
   ]
  },
  {
   "cell_type": "code",
   "execution_count": null,
   "metadata": {},
   "outputs": [],
   "source": []
  }
 ],
 "metadata": {
  "kernelspec": {
   "display_name": "Python 3",
   "language": "python",
   "name": "python3"
  },
  "language_info": {
   "codemirror_mode": {
    "name": "ipython",
    "version": 3
   },
   "file_extension": ".py",
   "mimetype": "text/x-python",
   "name": "python",
   "nbconvert_exporter": "python",
   "pygments_lexer": "ipython3",
   "version": "3.7.0"
  }
 },
 "nbformat": 4,
 "nbformat_minor": 1
}
